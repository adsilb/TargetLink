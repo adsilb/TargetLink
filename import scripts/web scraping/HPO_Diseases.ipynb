{
 "cells": [
  {
   "cell_type": "code",
   "execution_count": 1,
   "source": [
    "from urllib.request import urlopen\r\n",
    "import json\r\n",
    "import pandas as pd"
   ],
   "outputs": [],
   "metadata": {}
  },
  {
   "cell_type": "code",
   "execution_count": null,
   "source": [
    "in_file = r'../data files/HGNC_gene_info.tsv'\r\n",
    "out_filename = r'../data files/HPO_diseases.tsv'\r\n",
    "\r\n",
    "csv_data = pd.read_csv(in_file, sep=\"\\t\")\r\n",
    "data = []\r\n",
    "row_num = 0\r\n",
    "for index, row in csv_data.iterrows():\r\n",
    "    try:\r\n",
    "        row_num += 1\r\n",
    "        hgnc_id = csv_data[\"HGNC_ID\"][index]\r\n",
    "        ncbi_id = csv_data[\"NCBI_ID\"][index]\r\n",
    "        gene_symbol = csv_data[\"Approved_symbol\"][index]\r\n",
    "        # print(\"processing: \", ncbi_id)\r\n",
    "        url = 'https://hpo.jax.org/api/hpo/gene/' + str(int(ncbi_id))\r\n",
    "        # print(\"url: \", url)\r\n",
    "        response = urlopen(url)\r\n",
    "\r\n",
    "        data_json = json.loads(response.read())\r\n",
    "        \r\n",
    "        for disease in data_json[\"diseaseAssoc\"]:\r\n",
    "            data.append({\"HGNC_ID\": hgnc_id, \"Gene_symbol\": gene_symbol, \"Disease_ID\": disease[\"diseaseId\"], \"Disease_name\": disease[\"diseaseName\"]})\r\n",
    "\r\n",
    "    except:\r\n",
    "        print('Failure on row ', row_num)\r\n",
    "\r\n",
    "if row_num % 100 == 0:\r\n",
    "    print(\"Rows processed: \", row_num)\r\n",
    "    df = pd.DataFrame(data)\r\n",
    "    df.to_csv(out_filename, sep = '\\t', index=False, mode='a', header=False)\r\n",
    "    data = []\r\n",
    "\r\n",
    "df = pd.DataFrame(data)\r\n",
    "df.to_csv(out_filename, sep = '\\t', index=False, mode='a', header=False)"
   ],
   "outputs": [],
   "metadata": {}
  },
  {
   "cell_type": "code",
   "execution_count": null,
   "source": [
    "# The last step is to open the generated file and fill in the HGNC_ID column based on the Gene_symbol\r\n",
    "df = pd.read_csv(out_filename, sep='\\t')\r\n",
    "\r\n",
    "# Fill in the HGNC column by loading by the HGNC gene list and the previous symbols, then joining\r\n",
    "df_gene_info = pd.read_csv(r\"../data files/HGNC_gene_info.tsv\", sep='\\t')\r\n",
    "df_prev_sym = pd.read_csv(r\"../data files/HGNC_previous_symbols.tsv\", sep='\\t')\r\n",
    "df[\"HGNC_ID\"] = pd.merge(df, df_gene_info, on='Gene_symbol', how='left')[[\"HGNC_ID_y\"]]\r\n",
    "df.loc[df[\"HGNC_ID\"].isnull(), \"HGNC_ID\"] = pd.merge(df, df_prev_sym, left_on='Gene_symbol', right_on='Previous_symbol', how='left')[[\"HGNC_ID_y\"]].squeeze()\r\n",
    "\r\n",
    "# Write the file\r\n",
    "df.to_csv(out_filename, sep='\\t')"
   ],
   "outputs": [],
   "metadata": {}
  }
 ],
 "metadata": {
  "orig_nbformat": 4,
  "language_info": {
   "name": "python",
   "version": "3.9.2",
   "mimetype": "text/x-python",
   "codemirror_mode": {
    "name": "ipython",
    "version": 3
   },
   "pygments_lexer": "ipython3",
   "nbconvert_exporter": "python",
   "file_extension": ".py"
  },
  "kernelspec": {
   "name": "python3",
   "display_name": "Python 3.9.2 64-bit ('TargetLink': venv)"
  },
  "interpreter": {
   "hash": "20385fb82b08a71649c022293ca2a1d5d18d0a86380a00543e89f992ae3cc19f"
  }
 },
 "nbformat": 4,
 "nbformat_minor": 2
}