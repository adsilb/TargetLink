{
 "cells": [
  {
   "cell_type": "code",
   "execution_count": 30,
   "source": [
    "import requests\r\n",
    "import time\r\n",
    "from datetime import datetime\r\n",
    "import lxml\r\n",
    "import pandas as pd\r\n",
    "from bs4 import BeautifulSoup\r\n",
    "from sqlalchemy import create_engine"
   ],
   "outputs": [],
   "metadata": {}
  },
  {
   "cell_type": "code",
   "execution_count": null,
   "source": [
    "# Figure out the URL of the most recent categories.tsv file\r\n",
    "source = requests.get('https://dgidb.org/downloads').text\r\n",
    "soup = BeautifulSoup(source, 'lxml')\r\n",
    "table = soup.select(\"table#tsv_downloads\")\r\n",
    "last_row = table[0](\"tr\")[-1]\r\n",
    "tds = last_row.find_all('td')\r\n",
    "source_date = tds[0].text\r\n",
    "url = f'https://dgidb.org/data/monthly_tsvs/{source_date}/categories.tsv'"
   ],
   "outputs": [],
   "metadata": {}
  },
  {
   "cell_type": "code",
   "execution_count": 19,
   "source": [
    "df = pd.read_csv(url, sep='\\t')\r\n",
    "df.head()"
   ],
   "outputs": [
    {
     "output_type": "execute_result",
     "data": {
      "text/html": [
       "<div>\n",
       "<style scoped>\n",
       "    .dataframe tbody tr th:only-of-type {\n",
       "        vertical-align: middle;\n",
       "    }\n",
       "\n",
       "    .dataframe tbody tr th {\n",
       "        vertical-align: top;\n",
       "    }\n",
       "\n",
       "    .dataframe thead th {\n",
       "        text-align: right;\n",
       "    }\n",
       "</style>\n",
       "<table border=\"1\" class=\"dataframe\">\n",
       "  <thead>\n",
       "    <tr style=\"text-align: right;\">\n",
       "      <th></th>\n",
       "      <th>entrez_gene_symbol</th>\n",
       "      <th>gene_long_name</th>\n",
       "      <th>category_sources</th>\n",
       "      <th>category</th>\n",
       "    </tr>\n",
       "  </thead>\n",
       "  <tbody>\n",
       "    <tr>\n",
       "      <th>0</th>\n",
       "      <td>IDI2</td>\n",
       "      <td>ISOPENTENYL-DIPHOSPHATE DELTA ISOMERASE 2</td>\n",
       "      <td>GuideToPharmacology</td>\n",
       "      <td>ENZYME</td>\n",
       "    </tr>\n",
       "    <tr>\n",
       "      <th>1</th>\n",
       "      <td>WDR11</td>\n",
       "      <td>WD REPEAT DOMAIN 11</td>\n",
       "      <td>Pharos</td>\n",
       "      <td>TRANSCRIPTION FACTOR</td>\n",
       "    </tr>\n",
       "    <tr>\n",
       "      <th>2</th>\n",
       "      <td>KIF20B</td>\n",
       "      <td>KINESIN FAMILY MEMBER 20B</td>\n",
       "      <td>Pharos</td>\n",
       "      <td>ENZYME</td>\n",
       "    </tr>\n",
       "    <tr>\n",
       "      <th>3</th>\n",
       "      <td>SDF2</td>\n",
       "      <td>STROMAL CELL DERIVED FACTOR 2</td>\n",
       "      <td>HingoraniCasas</td>\n",
       "      <td>DRUGGABLE GENOME</td>\n",
       "    </tr>\n",
       "    <tr>\n",
       "      <th>4</th>\n",
       "      <td>CDT1</td>\n",
       "      <td>CHROMATIN LICENSING AND DNA REPLICATION FACTOR 1</td>\n",
       "      <td>Pharos</td>\n",
       "      <td>KINASE</td>\n",
       "    </tr>\n",
       "  </tbody>\n",
       "</table>\n",
       "</div>"
      ],
      "text/plain": [
       "  entrez_gene_symbol                                    gene_long_name  \\\n",
       "0               IDI2         ISOPENTENYL-DIPHOSPHATE DELTA ISOMERASE 2   \n",
       "1              WDR11                               WD REPEAT DOMAIN 11   \n",
       "2             KIF20B                         KINESIN FAMILY MEMBER 20B   \n",
       "3               SDF2                     STROMAL CELL DERIVED FACTOR 2   \n",
       "4               CDT1  CHROMATIN LICENSING AND DNA REPLICATION FACTOR 1   \n",
       "\n",
       "      category_sources              category  \n",
       "0  GuideToPharmacology                ENZYME  \n",
       "1               Pharos  TRANSCRIPTION FACTOR  \n",
       "2               Pharos                ENZYME  \n",
       "3       HingoraniCasas      DRUGGABLE GENOME  \n",
       "4               Pharos                KINASE  "
      ]
     },
     "metadata": {},
     "execution_count": 19
    }
   ],
   "metadata": {}
  },
  {
   "cell_type": "code",
   "execution_count": 26,
   "source": [
    "# Insert a column for HGNC_ID\r\n",
    "df.insert(0, 'HGNC_ID', '')\r\n",
    "\r\n",
    "# Rename the Gene column\r\n",
    "df = df.rename(columns = {'entrez_gene_symbol':'Gene_symbol'})\r\n",
    "\r\n",
    "# Add new columns for Source, Source_Date, and Download_Date\r\n",
    "dt_release = datetime.strptime(source_date, '%Y-%b')\r\n",
    "str_date = int(dt_release.strftime(\"%Y%m%d\"))\r\n",
    "df[\"Source\"] = \"DGIdb\"\r\n",
    "df[\"Source_Date\"] = str_date\r\n",
    "df[\"Download_Date\"] = int(time.strftime(\"%Y%m%d\"))"
   ],
   "outputs": [],
   "metadata": {}
  },
  {
   "cell_type": "code",
   "execution_count": 29,
   "source": [
    "# Fill in the HGNC column by loading by the HGNC gene list and the previous symbols, then joining\r\n",
    "df_gene_info = pd.read_csv(r\"data files/HGNC_gene_info.tsv\", sep='\\t')\r\n",
    "df_prev_sym = pd.read_csv(r\"data files/HGNC_previous_symbols.tsv\", sep='\\t')\r\n",
    "df[\"HGNC_ID\"] = pd.merge(df, df_gene_info, on='Gene_symbol', how='left')[[\"HGNC_ID_y\"]]\r\n",
    "df.loc[df[\"HGNC_ID\"].isnull(), \"HGNC_ID\"] = pd.merge(df, df_prev_sym, left_on='Gene_symbol', right_on='Previous_symbol', how='left')[[\"HGNC_ID_y\"]].squeeze()\r\n",
    "\r\n",
    "# Write the file\r\n",
    "df.to_csv(r\"data files/DGIdb_categories.tsv\", sep='\\t')"
   ],
   "outputs": [],
   "metadata": {}
  },
  {
   "cell_type": "code",
   "execution_count": 31,
   "source": [
    "# Store it in the database\r\n",
    "engine = create_engine('sqlite:///TargetLink.db', echo=False)\r\n",
    "sqlite_connection = engine.connect()\r\n",
    "sqlite_table = \"DGIdb_categories\"\r\n",
    "df.to_sql(sqlite_table, sqlite_connection, index=False, if_exists='replace')\r\n",
    "sqlite_connection.close()"
   ],
   "outputs": [],
   "metadata": {}
  }
 ],
 "metadata": {
  "orig_nbformat": 4,
  "language_info": {
   "name": "python",
   "version": "3.9.2",
   "mimetype": "text/x-python",
   "codemirror_mode": {
    "name": "ipython",
    "version": 3
   },
   "pygments_lexer": "ipython3",
   "nbconvert_exporter": "python",
   "file_extension": ".py"
  },
  "kernelspec": {
   "name": "python3",
   "display_name": "Python 3.9.2 64-bit ('TargetLink': venv)"
  },
  "interpreter": {
   "hash": "20385fb82b08a71649c022293ca2a1d5d18d0a86380a00543e89f992ae3cc19f"
  }
 },
 "nbformat": 4,
 "nbformat_minor": 2
}