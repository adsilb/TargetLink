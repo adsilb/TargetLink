{
 "cells": [
  {
   "cell_type": "code",
   "execution_count": null,
   "source": [
    "import pandas as pd\r\n",
    "import numpy as np\r\n",
    "import gzip\r\n",
    "import time\r\n",
    "from urllib.request import urlopen\r\n",
    "from sqlalchemy import create_engine"
   ],
   "outputs": [],
   "metadata": {}
  },
  {
   "cell_type": "code",
   "execution_count": null,
   "source": [
    "# Retrieve the NCBI file from a URL and unzip it\r\n",
    "url = 'https://ftp.ncbi.nlm.nih.gov/gene/DATA/GENE_INFO/Mammalia/Homo_sapiens.gene_info.gz'\r\n",
    " \r\n",
    "df_ncbi = None\r\n",
    "streamed_file = urlopen(url)\r\n",
    "with gzip.GzipFile(fileobj=streamed_file) as f_in:\r\n",
    "    df_ncbi = pd.read_csv(f_in, sep='\\t')"
   ],
   "outputs": [],
   "metadata": {}
  },
  {
   "cell_type": "code",
   "execution_count": null,
   "source": [
    "# Add a column for HGNC_ID and drop a few others\r\n",
    "df_ncbi.insert(loc=0, column='HGNC_ID', value='')\r\n",
    "df_ncbi = df_ncbi.drop(['#tax_id', 'LocusTag', 'Nomenclature_status', 'Feature_type'], axis=1)\r\n",
    "\r\n",
    "# Rename the columns\r\n",
    "df_ncbi.rename(columns = {'GeneID': 'NCBI_ID', 'Symbol': 'Gene_symbol', 'Modification_date': 'Source_Date' }, inplace = True)\r\n",
    "\r\n",
    "# Add new columns for Source, Source_Date, and Download_Date\r\n",
    "df_ncbi[\"Source\"] = \"NCBI\"\r\n",
    "df_ncbi[\"Download_Date\"] = int(time.strftime(\"%Y%m%d\"))"
   ],
   "outputs": [],
   "metadata": {}
  },
  {
   "cell_type": "code",
   "execution_count": null,
   "source": [
    "# Fill in the HGNC column by loading by the HGNC gene list and the previous symbols, then joining\r\n",
    "df_gene_info = pd.read_csv(r\"data files/HGNC_gene_info.tsv\", sep='\\t')\r\n",
    "df_prev_sym = pd.read_csv(r\"data files/HGNC_previous_symbols.tsv\", sep='\\t')\r\n",
    "df_ncbi[\"HGNC_ID\"] = pd.merge(df_ncbi, df_gene_info, on='Gene_symbol', how='left')[[\"HGNC_ID_y\"]]\r\n",
    "df_ncbi.loc[df_ncbi[\"HGNC_ID\"].isnull(), \"HGNC_ID\"] = pd.merge(df_ncbi, df_prev_sym, left_on='Gene_symbol', right_on='Previous_symbol', how='left')[[\"HGNC_ID_y\"]].squeeze()\r\n",
    "\r\n",
    "# Write the file\r\n",
    "df_ncbi.to_csv(r\"data files/NCBI_gene_info.tsv\", sep='\\t')"
   ],
   "outputs": [],
   "metadata": {}
  },
  {
   "cell_type": "code",
   "execution_count": null,
   "source": [
    "# Store it in the database\r\n",
    "engine = create_engine('sqlite:///TargetLink.db', echo=False)\r\n",
    "sqlite_connection = engine.connect()\r\n",
    "sqlite_table = \"NCBI_gene_info\"\r\n",
    "df_ncbi.to_sql(sqlite_table, sqlite_connection, index=False, if_exists='replace')\r\n",
    "sqlite_connection.close()"
   ],
   "outputs": [],
   "metadata": {}
  }
 ],
 "metadata": {
  "orig_nbformat": 4,
  "language_info": {
   "name": "python",
   "version": "3.9.2",
   "mimetype": "text/x-python",
   "codemirror_mode": {
    "name": "ipython",
    "version": 3
   },
   "pygments_lexer": "ipython3",
   "nbconvert_exporter": "python",
   "file_extension": ".py"
  },
  "kernelspec": {
   "name": "python3",
   "display_name": "Python 3.9.2 64-bit ('TargetLink': venv)"
  },
  "interpreter": {
   "hash": "20385fb82b08a71649c022293ca2a1d5d18d0a86380a00543e89f992ae3cc19f"
  }
 },
 "nbformat": 4,
 "nbformat_minor": 2
}