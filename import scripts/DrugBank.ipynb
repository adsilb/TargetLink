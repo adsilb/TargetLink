{
 "cells": [
  {
   "cell_type": "code",
   "execution_count": 65,
   "source": [
    "import pandas as pd\r\n",
    "import numpy as np\r\n",
    "import requests\r\n",
    "import io\r\n",
    "from datetime import datetime\r\n",
    "import time\r\n",
    "import lxml\r\n",
    "from bs4 import BeautifulSoup\r\n",
    "from zipfile import ZipFile\r\n",
    "from sqlalchemy import create_engine"
   ],
   "outputs": [],
   "metadata": {}
  },
  {
   "cell_type": "code",
   "execution_count": 66,
   "source": [
    "# Navigate to the DrugBank download page and capture the release date and download URL\r\n",
    "source = requests.get('https://go.drugbank.com/releases/latest#open-data').text\r\n",
    "soup = BeautifulSoup(source)"
   ],
   "outputs": [],
   "metadata": {}
  },
  {
   "cell_type": "code",
   "execution_count": 67,
   "source": [
    "element = soup.find(\"td\", text=\"DrugBank Vocabulary\")\r\n",
    "nextSiblings = element.find_next_siblings(\"td\")\r\n",
    "release_date = nextSiblings[1].get_text()\r\n",
    "url_redirect = 'https://go.drugbank.com' + nextSiblings[6].findChild('a')['href']"
   ],
   "outputs": [],
   "metadata": {}
  },
  {
   "cell_type": "code",
   "execution_count": 71,
   "source": [
    "df_db = None\r\n",
    "\r\n",
    "# String with URL:\r\n",
    "# url_redirect = 'https://go.drugbank.com/releases/5-1-8/downloads/all-drugbank-vocabulary'\r\n",
    "r = requests.get(url_redirect, allow_redirects=False)\r\n",
    "url = r.headers['Location']\r\n",
    "response = requests.get(url)\r\n",
    "with ZipFile(io.BytesIO(response.content)) as thezip:\r\n",
    "    for zipinfo in thezip.infolist():\r\n",
    "        thefile = thezip.open(zipinfo)\r\n",
    "        df_db = pd.read_csv(thefile)"
   ],
   "outputs": [],
   "metadata": {}
  },
  {
   "cell_type": "code",
   "execution_count": 72,
   "source": [
    "# Drop a few columns\r\n",
    "df_db = df_db.drop(['CAS', 'UNII', 'Standard InChI Key'], axis=1)\r\n",
    "\r\n",
    "# Rename the columns\r\n",
    "df_db.rename(columns = {'DrugBank ID': 'DrugBank_ID', 'Common name': 'Common_name', 'Accession Numbers': 'Accession_Numbers' }, inplace = True)\r\n",
    "\r\n",
    "# Add new columns for Source, Source_Date, and Download_Date\r\n",
    "dt_release = datetime.strptime(release_date, '%Y-%m-%d')\r\n",
    "str_date = int(dt_release.strftime(\"%Y%m%d\"))\r\n",
    "df_db[\"Source\"] = \"DrugBank\"\r\n",
    "df_db[\"Source_Date\"] = str_date\r\n",
    "df_db[\"Download_Date\"] = int(time.strftime(\"%Y%m%d\"))"
   ],
   "outputs": [],
   "metadata": {}
  },
  {
   "cell_type": "code",
   "execution_count": 73,
   "source": [
    "# Write the file\r\n",
    "df_db.to_csv(r\"data files/DRUGBANK_drug_info.tsv\", sep='\\t')\r\n",
    "\r\n",
    "# Store it in the database\r\n",
    "engine = create_engine('sqlite:///TargetLink.db', echo=False)\r\n",
    "sqlite_connection = engine.connect()\r\n",
    "sqlite_table = \"DRUGBANK_drug_info\"\r\n",
    "df_db.to_sql(sqlite_table, sqlite_connection, index=False, if_exists='replace')\r\n",
    "sqlite_connection.close()"
   ],
   "outputs": [],
   "metadata": {}
  }
 ],
 "metadata": {
  "orig_nbformat": 4,
  "language_info": {
   "name": "python",
   "version": "3.9.2",
   "mimetype": "text/x-python",
   "codemirror_mode": {
    "name": "ipython",
    "version": 3
   },
   "pygments_lexer": "ipython3",
   "nbconvert_exporter": "python",
   "file_extension": ".py"
  },
  "kernelspec": {
   "name": "python3",
   "display_name": "Python 3.9.2 64-bit ('TargetLink': venv)"
  },
  "interpreter": {
   "hash": "20385fb82b08a71649c022293ca2a1d5d18d0a86380a00543e89f992ae3cc19f"
  }
 },
 "nbformat": 4,
 "nbformat_minor": 2
}