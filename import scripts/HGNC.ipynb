{
    "cells": [
        {
            "cell_type": "markdown",
            "source": [
                "This script imports the latest HGNC data into the database"
            ],
            "metadata": {}
        },
        {
            "cell_type": "code",
            "execution_count": 100,
            "source": [
                "import pandas as pd\r\n",
                "import numpy as np\r\n",
                "import time\r\n",
                "import sqlite3\r\n",
                "from sqlalchemy import create_engine"
            ],
            "outputs": [],
            "metadata": {}
        },
        {
            "cell_type": "code",
            "execution_count": 106,
            "source": [
                "# String with URL:\r\n",
                "url_csv = 'https://www.genenames.org/cgi-bin/download/custom?col=gd_hgnc_id&col=gd_app_sym&col=gd_app_name&col=gd_prev_sym&col=gd_aliases&col=gd_pub_chrom_map&col=gd_pub_acc_ids&col=md_ensembl_id&col=md_eg_id&col=md_prot_id&col=md_mim_id&status=Approved&hgnc_dbtag=on&order_by=gd_app_sym_sort&format=text&submit=submit'\r\n",
                "# First example to read csv from URL\r\n",
                "df_hgnc = pd.read_csv(url_csv, sep='\\t')"
            ],
            "outputs": [],
            "metadata": {}
        },
        {
            "cell_type": "code",
            "execution_count": 107,
            "source": [
                "\r\n",
                "# Rename the columns\r\n",
                "df_hgnc.rename(columns = {'HGNC ID': 'HGNC_ID', 'Approved symbol':'Gene_symbol', 'Approved name': 'Approved_name', 'Previous symbols': 'Previous_symbols',\r\n",
                "    'Alias symbols': 'Alias_symbols', 'Accession numbers': 'Accession_numbers', 'Ensembl ID(supplied by Ensembl)':'Ensembl_ID', \r\n",
                "    'NCBI Gene ID(supplied by NCBI)':'NCBI_ID', 'UniProt ID(supplied by UniProt)':'UniProt_ID', \r\n",
                "    'OMIM ID(supplied by OMIM)':'OMIM_ID' }, inplace = True)\r\n",
                "\r\n",
                "\r\n",
                "\r\n",
                "# Add new columns for Source, Source_Date, and Download_Date\r\n",
                "df_hgnc[\"Source\"] = \"HGNC\"\r\n",
                "df_hgnc[\"Source_Date\"] = int(time.strftime(\"%Y%m%d\"))\r\n",
                "df_hgnc[\"Download_Date\"] = int(time.strftime(\"%Y%m%d\"))\r\n",
                "\r\n",
                "# Convert to the proper data types\r\n",
                "df_hgnc = df_hgnc.astype({\"NCBI_ID\": \"Int32\", \"Source_Date\": \"Int32\", \"Download_Date\": \"Int32\"})\r\n",
                "\r\n",
                "# Write the file\r\n",
                "df_hgnc.to_csv(r\"data files/HGNC_gene_info.tsv\", sep='\\t')"
            ],
            "outputs": [],
            "metadata": {}
        },
        {
            "cell_type": "code",
            "execution_count": 108,
            "source": [
                "# Store it in the database\r\n",
                "engine = create_engine('sqlite:///save_pandas.db', echo=False)\r\n",
                "sqlite_connection = engine.connect()\r\n",
                "sqlite_table = \"HGNC_gene_info\"\r\n",
                "df_hgnc.to_sql(sqlite_table, sqlite_connection, index=False, if_exists='replace')\r\n",
                "sqlite_connection.close()"
            ],
            "outputs": [],
            "metadata": {}
        },
        {
            "cell_type": "code",
            "execution_count": 105,
            "source": [
                "# Create a file and database table for previous symbols\r\n",
                "data = []\r\n",
                "delimiter = ','\r\n",
                "for i, row in df_hgnc.iterrows():\r\n",
                "    hgnc_id = row[\"HGNC ID\"]\r\n",
                "    symbol = row[\"Gene_symbol\"]\r\n",
                "    token_string = str(row[\"Previous_symbols\"])\r\n",
                "    if token_string != 'nan':\r\n",
                "        for token in token_string.split(delimiter):\r\n",
                "            if token != '-' and str(hgnc_id).startswith('H'):\r\n",
                "                data.append({ \"HGNC_ID\": hgnc_id, \"Gene_symbol\": symbol, \"Previous_symbol\": token.strip()})\r\n",
                "\r\n",
                "df_previous_sym = pd.DataFrame(data)\r\n",
                "df_previous_sym.to_csv(r\"data files/HGNC_previous_symbols.tsv\", sep = '\\t', index=False)\r\n",
                "\r\n",
                "# Store it in the database\r\n",
                "engine = create_engine('sqlite:///TargetLink.db', echo=False)\r\n",
                "sqlite_connection = engine.connect()\r\n",
                "sqlite_table = \"HGNC_previous_symbols\"\r\n",
                "df_previous_sym.to_sql(sqlite_table, sqlite_connection, index=False, if_exists='replace')\r\n",
                "sqlite_connection.close()"
            ],
            "outputs": [],
            "metadata": {}
        }
    ],
    "metadata": {
        "orig_nbformat": 4,
        "language_info": {
            "name": "python",
            "version": "3.9.2",
            "mimetype": "text/x-python",
            "codemirror_mode": {
                "name": "ipython",
                "version": 3
            },
            "pygments_lexer": "ipython3",
            "nbconvert_exporter": "python",
            "file_extension": ".py"
        },
        "kernelspec": {
            "name": "python3",
            "display_name": "Python 3.9.2 64-bit ('TargetLink': venv)"
        },
        "interpreter": {
            "hash": "20385fb82b08a71649c022293ca2a1d5d18d0a86380a00543e89f992ae3cc19f"
        }
    },
    "nbformat": 4,
    "nbformat_minor": 2
}