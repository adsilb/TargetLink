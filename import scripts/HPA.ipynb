{
 "cells": [
  {
   "cell_type": "code",
   "execution_count": 256,
   "source": [
    "import pandas as pd\r\n",
    "import numpy as np\r\n",
    "import time\r\n",
    "import sqlite3\r\n",
    "from sqlalchemy import create_engine"
   ],
   "outputs": [],
   "metadata": {}
  },
  {
   "cell_type": "code",
   "execution_count": 263,
   "source": [
    "# String with URL:\r\n",
    "url_csv = 'https://www.proteinatlas.org/api/search_download.php?search=&columns=g,gs,eg,pc,di&compress=no&format=tsv'\r\n",
    "# First example to read csv from URL\r\n",
    "df_hpa = pd.read_csv(url_csv, sep='\\t')"
   ],
   "outputs": [],
   "metadata": {}
  },
  {
   "cell_type": "code",
   "execution_count": null,
   "source": [
    "# Add a column for HGNC_ID\r\n",
    "df_hpa[\"HGNC_ID\"] = ''\r\n",
    "\r\n",
    "# Rename the Gene column\r\n",
    "df_hpa = df_hpa.rename(columns = {'Gene':'Gene_symbol'})\r\n",
    "\r\n",
    "# Rearrange the columns and add a few new \r\n",
    "df_hpa = df_hpa.reindex(columns =['HGNC_ID', 'Gene_symbol', 'Gene synonym', 'Ensembl', 'Protein class', 'Disease involvement'])\r\n",
    "\r\n",
    "# Add new columns for Source, Source_Date, and Download_Date\r\n",
    "df_hpa[\"Source\"] = \"HPA\"\r\n",
    "df_hpa[\"Source_Date\"] = int(time.strftime(\"%Y%m%d\"))\r\n",
    "df_hpa[\"Download_Date\"] = int(time.strftime(\"%Y%m%d\"))"
   ],
   "outputs": [],
   "metadata": {}
  },
  {
   "cell_type": "code",
   "execution_count": 269,
   "source": [
    "# Fill in the HGNC column by loading by the HGNC gene list and the previous symbols, then joining\r\n",
    "df_gene_info = pd.read_csv(r\"data files/HGNC_gene_info.tsv\", sep='\\t')\r\n",
    "df_prev_sym = pd.read_csv(r\"data files/HGNC_previous_symbols.tsv\", sep='\\t')\r\n",
    "df_hpa[\"HGNC_ID\"] = pd.merge(df_hpa, df_gene_info, on='Gene_symbol', how='left')[[\"HGNC_ID_y\"]]\r\n",
    "df_hpa.loc[df_hpa[\"HGNC_ID\"].isnull(), \"HGNC_ID\"] = pd.merge(df_hpa, df_prev_sym, left_on='Gene_symbol', right_on='Previous_symbol', how='left')[[\"HGNC_ID_y\"]].squeeze()\r\n",
    "\r\n",
    "# Write the file\r\n",
    "df_hpa.to_csv(r\"data files/HPA_gene_info.tsv\", sep='\\t')"
   ],
   "outputs": [],
   "metadata": {}
  },
  {
   "cell_type": "code",
   "execution_count": 270,
   "source": [
    "# Store it in the database\r\n",
    "engine = create_engine('sqlite:///TargetLink.db', echo=False)\r\n",
    "sqlite_connection = engine.connect()\r\n",
    "sqlite_table = \"HPA_gene_info\"\r\n",
    "df_hpa.to_sql(sqlite_table, sqlite_connection, index=False, if_exists='replace')\r\n",
    "sqlite_connection.close()"
   ],
   "outputs": [],
   "metadata": {}
  }
 ],
 "metadata": {
  "orig_nbformat": 4,
  "language_info": {
   "name": "python",
   "version": "3.9.2",
   "mimetype": "text/x-python",
   "codemirror_mode": {
    "name": "ipython",
    "version": 3
   },
   "pygments_lexer": "ipython3",
   "nbconvert_exporter": "python",
   "file_extension": ".py"
  },
  "kernelspec": {
   "name": "python3",
   "display_name": "Python 3.9.2 64-bit ('TargetLink': venv)"
  },
  "interpreter": {
   "hash": "20385fb82b08a71649c022293ca2a1d5d18d0a86380a00543e89f992ae3cc19f"
  }
 },
 "nbformat": 4,
 "nbformat_minor": 2
}