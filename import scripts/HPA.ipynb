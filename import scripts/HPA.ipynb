{
 "cells": [
  {
   "cell_type": "code",
   "execution_count": 1,
   "source": [
    "import pandas as pd\r\n",
    "import numpy as np\r\n",
    "import time\r\n",
    "from sqlalchemy import create_engine"
   ],
   "outputs": [],
   "metadata": {}
  },
  {
   "cell_type": "code",
   "execution_count": 9,
   "source": [
    "def get_df(url):\r\n",
    "    df = pd.read_csv(url, sep='\\t')\r\n",
    "    # Add a column for HGNC_ID\r\n",
    "    df.insert(0, \"HGNC_ID\", \"\")\r\n",
    "\r\n",
    "    # Rename the Gene column\r\n",
    "    df = df.rename(columns = {'Gene':'Gene_symbol'})\r\n",
    "    return df\r\n",
    "\r\n",
    "def finalize_file(df, out_filename, db_table_name):\r\n",
    "    # Add new columns for Source, Source_Date, and Download_Date\r\n",
    "    df[\"Source\"] = \"HPA\"\r\n",
    "    df[\"Source_Date\"] = int(time.strftime(\"%Y%m%d\"))\r\n",
    "    df[\"Download_Date\"] = int(time.strftime(\"%Y%m%d\"))\r\n",
    "\r\n",
    "    # Fill in the HGNC column by loading by the HGNC gene list and the previous symbols, then joining\r\n",
    "    df_gene_info = pd.read_csv(r\"data files/HGNC_gene_info.tsv\", sep='\\t')\r\n",
    "    df_prev_sym = pd.read_csv(r\"data files/HGNC_previous_symbols.tsv\", sep='\\t')\r\n",
    "    df[\"HGNC_ID\"] = pd.merge(df, df_gene_info, on='Gene_symbol', how='left')[[\"HGNC_ID_y\"]]\r\n",
    "    df.loc[df[\"HGNC_ID\"].isnull(), \"HGNC_ID\"] = pd.merge(df, df_prev_sym, left_on='Gene_symbol', right_on='Previous_symbol', how='left')[[\"HGNC_ID_y\"]].squeeze()\r\n",
    "\r\n",
    "    # Write the file\r\n",
    "    df.to_csv(out_filename, sep='\\t')\r\n",
    "\r\n",
    "    # Store it in the database\r\n",
    "    engine = create_engine('sqlite:///TargetLink.db', echo=False)\r\n",
    "    sqlite_connection = engine.connect()\r\n",
    "    sqlite_table = db_table_name\r\n",
    "    df.to_sql(sqlite_table, sqlite_connection, index=False, if_exists='replace')\r\n",
    "    sqlite_connection.close()\r\n",
    "\r\n",
    "df = get_df('https://www.proteinatlas.org/api/search_download.php?search=&columns=g,gs,eg,pc,di&compress=no&format=tsv')\r\n",
    "# Rearrange the columns\r\n",
    "df = df.reindex(columns =['HGNC_ID', 'Gene_symbol', 'Gene synonym', 'Ensembl', 'Protein class', 'Disease involvement'])\r\n",
    "finalize_file(df, r\"data files/HPA_gene_info.tsv\", \"HPA_gene_info\")\r\n",
    "df = get_df(\"https://www.proteinatlas.org/api/search_download.php?search=transmembrane&columns=g&compress=no&format=tsv\")\r\n",
    "finalize_file(df, r\"data files/HPA_transmembrane.tsv\", \"HPA_transmembrane\")"
   ],
   "outputs": [],
   "metadata": {}
  },
  {
   "cell_type": "code",
   "execution_count": 20,
   "source": [
    "# Get the biological process and molecular function\r\n",
    "df = get_df(\"https://www.proteinatlas.org/api/search_download.php?search=&columns=g,upbp,up_mf&compress=no&format=tsv\")\r\n",
    "bp_data = []\r\n",
    "mf_data = []\r\n",
    "for i, row in df.iterrows():\r\n",
    "    symbol = row[\"Gene_symbol\"]\r\n",
    "    bp_tokens = str(row[\"Biological process\"])\r\n",
    "    mf_tokens = str(row[\"Molecular function\"])\r\n",
    "    if bp_tokens != 'nan':\r\n",
    "        for token in bp_tokens.split(','):\r\n",
    "            if token != '':\r\n",
    "                bp_data.append({ \"HGNC_ID\": '', \"Gene_symbol\": symbol, \"Biological_process\": token.strip()})\r\n",
    "    if mf_tokens != 'nan':\r\n",
    "        for token in mf_tokens.split(','):\r\n",
    "            if token != '':\r\n",
    "                mf_data.append({ \"HGNC_ID\": '', \"Gene_symbol\": symbol, \"Molecular_function\": token.strip()})\r\n",
    "\r\n",
    "df = pd.DataFrame(bp_data)\r\n",
    "finalize_file(df, r\"data files/HPA_biological_process.tsv\", \"HPA_biological_process\")\r\n",
    "df = pd.DataFrame(mf_data)\r\n",
    "finalize_file(df, r\"data files/HPA_molecular_function.tsv\", \"HPA_molecular_function\")\r\n"
   ],
   "outputs": [],
   "metadata": {}
  }
 ],
 "metadata": {
  "orig_nbformat": 4,
  "language_info": {
   "name": "python",
   "version": "3.9.2",
   "mimetype": "text/x-python",
   "codemirror_mode": {
    "name": "ipython",
    "version": 3
   },
   "pygments_lexer": "ipython3",
   "nbconvert_exporter": "python",
   "file_extension": ".py"
  },
  "kernelspec": {
   "name": "python3",
   "display_name": "Python 3.9.2 64-bit ('TargetLink': venv)"
  },
  "interpreter": {
   "hash": "20385fb82b08a71649c022293ca2a1d5d18d0a86380a00543e89f992ae3cc19f"
  }
 },
 "nbformat": 4,
 "nbformat_minor": 2
}